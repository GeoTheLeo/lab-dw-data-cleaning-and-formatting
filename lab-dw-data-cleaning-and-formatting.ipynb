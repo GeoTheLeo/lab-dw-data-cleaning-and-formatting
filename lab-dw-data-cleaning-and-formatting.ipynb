{
  "cells": [
    {
      "cell_type": "markdown",
      "id": "25d7736c-ba17-4aff-b6bb-66eba20fbf4e",
      "metadata": {
        "id": "25d7736c-ba17-4aff-b6bb-66eba20fbf4e"
      },
      "source": [
        "# Lab | Data Cleaning and Formatting"
      ]
    },
    {
      "cell_type": "markdown",
      "id": "d1973e9e-8be6-4039-b70e-d73ee0d94c99",
      "metadata": {
        "id": "d1973e9e-8be6-4039-b70e-d73ee0d94c99"
      },
      "source": [
        "In this lab, we will be working with the customer data from an insurance company, which can be found in the CSV file located at the following link: https://raw.githubusercontent.com/data-bootcamp-v4/data/main/file1.csv\n"
      ]
    },
    {
      "cell_type": "markdown",
      "id": "31b8a9e7-7db9-4604-991b-ef6771603e57",
      "metadata": {
        "id": "31b8a9e7-7db9-4604-991b-ef6771603e57"
      },
      "source": [
        "# Challenge 1: Data Cleaning and Formatting"
      ]
    },
    {
      "cell_type": "markdown",
      "id": "81553f19-9f2c-484b-8940-520aff884022",
      "metadata": {
        "id": "81553f19-9f2c-484b-8940-520aff884022"
      },
      "source": [
        "## Exercise 1: Cleaning Column Names"
      ]
    },
    {
      "cell_type": "markdown",
      "id": "34a929f4-1be4-4fa8-adda-42ffd920be90",
      "metadata": {
        "id": "34a929f4-1be4-4fa8-adda-42ffd920be90"
      },
      "source": [
        "To ensure consistency and ease of use, standardize the column names of the dataframe. Start by taking a first look at the dataframe and identifying any column names that need to be modified. Use appropriate naming conventions and make sure that column names are descriptive and informative.\n",
        "\n",
        "*Hint*:\n",
        "- *Column names should be in lower case*\n",
        "- *White spaces in column names should be replaced by `_`*\n",
        "- *`st` could be replaced for `state`*"
      ]
    },
    {
      "cell_type": "code",
      "execution_count": 1,
      "id": "5810735c-8056-4442-bbf2-dda38d3e284a",
      "metadata": {
        "id": "5810735c-8056-4442-bbf2-dda38d3e284a"
      },
      "outputs": [
        {
          "name": "stdout",
          "output_type": "stream",
          "text": [
            "Updated column names:\n",
            "['customer', 'state', 'gender', 'education', 'customer_lifetime_value', 'income', 'monthly_premium_auto', 'number_of_open_complaints', 'policy_type', 'vehicle_class', 'total_claim_amount']\n",
            "\n",
            "Columns that might still need attention:\n"
          ]
        }
      ],
      "source": [
        "# Your code here\n",
        "import pandas as pd\n",
        "\n",
        "# Load your dataset (replace with your actual file)\n",
        "df = pd.read_csv('file1.csv')\n",
        "\n",
        "# Create a dictionary to map old column names to new standardized names\n",
        "column_name_mapping = {\n",
        "    # General naming conventions\n",
        "    'ST': 'state',\n",
        "    'Customer Lifetime Value': 'customer_lifetime_value',\n",
        "    'Income': 'income',\n",
        "    'Monthly Premium Auto': 'monthly_premium_auto',\n",
        "    'Number of Open Complaints': 'number_of_open_complaints',\n",
        "    'Policy Type': 'policy_type',\n",
        "    'Vehicle Class': 'vehicle_class',\n",
        "    'Total Claim Amount': 'total_claim_amount',\n",
        "    \n",
        "    # Add more mappings for your specific columns\n",
        "    # Format: 'OldColumnName': 'new_column_name'\n",
        "}\n",
        "\n",
        "# Apply the renaming\n",
        "df.rename(columns=column_name_mapping, inplace=True)\n",
        "\n",
        "# For any remaining columns not in our mapping, apply general cleaning rules\n",
        "def clean_column_name(col):\n",
        "    col = col.lower()  # Convert to lowercase\n",
        "    col = col.replace(' ', '_')  # Replace spaces with underscores\n",
        "    col = col.replace('-', '_')  # Replace hyphens with underscores\n",
        "    col = col.replace('(', '')  # Remove special characters\n",
        "    col = col.replace(')', '')\n",
        "    col = col.replace('/', '_')\n",
        "    return col\n",
        "\n",
        "df.columns = [clean_column_name(col) for col in df.columns]\n",
        "\n",
        "# Verify the changes\n",
        "print(\"Updated column names:\")\n",
        "print(df.columns.tolist())\n",
        "\n",
        "# Check for any remaining problematic columns\n",
        "print(\"\\nColumns that might still need attention:\")\n",
        "for col in df.columns:\n",
        "    if any(x in col for x in [' ', '-', '(', ')', '/']) or col != col.lower():\n",
        "        print(f\"- {col} (needs further cleaning)\")"
      ]
    },
    {
      "cell_type": "markdown",
      "id": "9cb501ec-36ff-4589-b872-6252bb150316",
      "metadata": {
        "id": "9cb501ec-36ff-4589-b872-6252bb150316"
      },
      "source": [
        "## Exercise 2: Cleaning invalid Values"
      ]
    },
    {
      "cell_type": "markdown",
      "id": "771fdcf3-8e20-4b06-9c24-3a93ba2b0909",
      "metadata": {
        "id": "771fdcf3-8e20-4b06-9c24-3a93ba2b0909"
      },
      "source": [
        "The dataset contains columns with inconsistent and incorrect values that could affect the accuracy of our analysis. Therefore, we need to clean these columns to ensure that they only contain valid data.\n",
        "\n",
        "Note that this exercise will focus only on cleaning inconsistent values and will not involve handling null values (NaN or None).\n",
        "\n",
        "*Hint*:\n",
        "- *Gender column contains various inconsistent values such as \"F\", \"M\", \"Femal\", \"Male\", \"female\", which need to be standardized, for example, to \"M\" and \"F\".*\n",
        "- *State abbreviations be can replaced with its full name, for example \"AZ\": \"Arizona\", \"Cali\": \"California\", \"WA\": \"Washington\"*\n",
        "- *In education, \"Bachelors\" could be replaced by \"Bachelor\"*\n",
        "- *In Customer Lifetime Value, delete the `%` character*\n",
        "- *In vehicle class, \"Sports Car\", \"Luxury SUV\" and \"Luxury Car\" could be replaced by \"Luxury\"*"
      ]
    },
    {
      "cell_type": "code",
      "execution_count": 11,
      "id": "3f8ee5cb-50ab-48af-8a9f-9a389804033c",
      "metadata": {
        "id": "3f8ee5cb-50ab-48af-8a9f-9a389804033c"
      },
      "outputs": [
        {
          "name": "stdout",
          "output_type": "stream",
          "text": [
            "Cleaning results:\n",
            "Gender values: [nan 'f' 'm']\n",
            "State sample: 0    Washington\n",
            "1       Arizona\n",
            "2        Nevada\n",
            "Name: ST, dtype: object\n",
            "Education values: ['Master' 'Bachelor' 'High School Or Below' 'College' 'Doctor' nan]\n",
            "CLV sample: 0           NaN\n",
            "1     697953.59\n",
            "2    1288743.17\n",
            "Name: Customer Lifetime Value, dtype: float64\n",
            "Vehicle classes: Vehicle Class\n",
            "Four-Door Car    576\n",
            "Two-Door Car     205\n",
            "Suv              199\n",
            "Luxury            91\n",
            "Name: count, dtype: int64\n"
          ]
        }
      ],
      "source": [
        "# Your code here\n",
        "import pandas as pd\n",
        "from us import states  # For state abbreviation handling (install with 'pip install us')\n",
        "\n",
        "# Load your dataset\n",
        "df = pd.read_csv('file1.csv')\n",
        "\n",
        "# 1. Clean Gender Column\n",
        "df['GENDER'] = df['GENDER'].str.lower().str[0]  # Take first character and lowercase\n",
        "df['GENDER'] = df['GENDER'].replace({'u': None, 'n': None})  # Handle unknown/neutral\n",
        "df['GENDER'] = df['GENDER'].map({'m': 'm', 'f': 'f'})  # Standardize to m/f\n",
        "\n",
        "# 2. Convert State Abbreviations to Full Names\n",
        "def get_state_full_name(abbr):\n",
        "    try:\n",
        "        return states.lookup(abbr).name if pd.notna(abbr) else None\n",
        "    except:\n",
        "        return abbr  # Return original if conversion fails\n",
        "\n",
        "df['ST'] = df['ST'].str.upper().apply(get_state_full_name)\n",
        "\n",
        "# 3. Standardize Education Column\n",
        "df['Education'] = df['Education'].str.replace('Bachelors', 'Bachelor')\n",
        "df['Education'] = df['Education'].str.title()  # Standardize capitalization\n",
        "\n",
        "# 4. Clean Customer Lifetime Value (remove % and convert to numeric)\n",
        "df['Customer Lifetime Value'] = (\n",
        "    df['Customer Lifetime Value']\n",
        "    .astype(str)\n",
        "    .str.replace('%', '')\n",
        "    .astype(float)\n",
        ")\n",
        "\n",
        "# 5. Standardize Vehicle Class\n",
        "luxury_vehicles = ['sports car', 'luxury suv', 'luxury car']\n",
        "df['Vehicle Class'] = (\n",
        "    df['Vehicle Class']\n",
        "    .str.lower()\n",
        "    .replace(luxury_vehicles, 'Luxury')\n",
        "    .str.title()  # Proper case for other categories\n",
        ")\n",
        "\n",
        "# Verification\n",
        "print(\"Cleaning results:\")\n",
        "print(f\"Gender values: {df['GENDER'].unique()}\")\n",
        "print(f\"State sample: {df['ST'].head(3)}\")\n",
        "print(f\"Education values: {df['Education'].unique()}\")\n",
        "print(f\"CLV sample: {df['Customer Lifetime Value'].head(3)}\")\n",
        "print(f\"Vehicle classes: {df['Vehicle Class'].value_counts()}\")"
      ]
    },
    {
      "cell_type": "markdown",
      "id": "85ff78ce-0174-4890-9db3-8048b7d7d2d0",
      "metadata": {
        "id": "85ff78ce-0174-4890-9db3-8048b7d7d2d0"
      },
      "source": [
        "## Exercise 3: Formatting data types"
      ]
    },
    {
      "cell_type": "markdown",
      "id": "b91c2cf8-79a2-4baf-9f65-ff2fb22270bd",
      "metadata": {
        "id": "b91c2cf8-79a2-4baf-9f65-ff2fb22270bd"
      },
      "source": [
        "The data types of many columns in the dataset appear to be incorrect. This could impact the accuracy of our analysis. To ensure accurate analysis, we need to correct the data types of these columns. Please update the data types of the columns as appropriate."
      ]
    },
    {
      "cell_type": "markdown",
      "id": "43e5d853-ff9e-43b2-9d92-aef2f78764f3",
      "metadata": {
        "id": "43e5d853-ff9e-43b2-9d92-aef2f78764f3"
      },
      "source": [
        "It is important to note that this exercise does not involve handling null values (NaN or None)."
      ]
    },
    {
      "cell_type": "markdown",
      "id": "329ca691-9196-4419-8969-3596746237a1",
      "metadata": {
        "id": "329ca691-9196-4419-8969-3596746237a1"
      },
      "source": [
        "*Hint*:\n",
        "- *Customer lifetime value should be numeric*\n",
        "- *Number of open complaints has an incorrect format. Look at the different values it takes with `unique()` and take the middle value. As an example, 1/5/00 should be 5. Number of open complaints is a string - remember you can use `split()` to deal with it and take the number you need. Finally, since it should be numeric, cast the column to be in its proper type.*"
      ]
    },
    {
      "cell_type": "code",
      "execution_count": 13,
      "id": "eb8f5991-73e9-405f-bf1c-6b7c589379a9",
      "metadata": {
        "id": "eb8f5991-73e9-405f-bf1c-6b7c589379a9"
      },
      "outputs": [
        {
          "name": "stdout",
          "output_type": "stream",
          "text": [
            "Data Types After Cleaning:\n",
            "Customer Lifetime Value      float64\n",
            "Number of Open Complaints      int64\n",
            "dtype: object\n",
            "\n",
            "Sample Values:\n",
            "   Customer Lifetime Value  Number of Open Complaints\n",
            "0                     0.00                          0\n",
            "1                697953.59                          0\n",
            "2               1288743.17                          0\n",
            "3                764586.18                          0\n",
            "4                536307.65                          0\n",
            "\n",
            "Value Counts for Open Complaints:\n",
            "Number of Open Complaints\n",
            "0    4008\n",
            "Name: count, dtype: int64\n"
          ]
        }
      ],
      "source": [
        "# Your code here\n",
        "# Remove % signs and any other non-numeric characters, then convert to float\n",
        "df['Customer Lifetime Value'] = (\n",
        "    df['Customer Lifetime Value']\n",
        "    .astype(str)\n",
        "    .str.replace('[%,$]', '', regex=True)  # Remove % and $ symbols\n",
        "    .str.strip()  # Remove whitespace\n",
        "    .replace('', '0')  # Handle empty strings\n",
        "    .astype(float)\n",
        ")\n",
        "\n",
        "# Extract the middle number from format X/Y/Z\n",
        "df['Number of Open Complaints'] = (\n",
        "    df['Number of Open Complaints']\n",
        "    .astype(str)\n",
        "    .str.split('/')  # Split by forward slash\n",
        "    .apply(lambda x: x[1] if len(x) == 3 else None)  # Take middle value\n",
        "    .astype(float)  # Convert to numeric\n",
        "    .fillna(0)  # Replace missing with 0 if needed\n",
        "    .astype(int)  # Convert to integer\n",
        ")\n",
        "\n",
        "import pandas as pd\n",
        "\n",
        "# Clean Customer Lifetime Value\n",
        "df['Customer Lifetime Value'] = (\n",
        "    df['Customer Lifetime Value']\n",
        "    .astype(str)\n",
        "    .str.replace('[^0-9.]', '', regex=True)  # Keep only numbers and decimal point\n",
        "    .replace('', '0')\n",
        "    .astype(float)\n",
        ")\n",
        "\n",
        "# Process Open Complaints\n",
        "def extract_complaint_value(complaint_str):\n",
        "    if pd.isna(complaint_str):\n",
        "        return 0\n",
        "    parts = str(complaint_str).split('/')\n",
        "    return int(parts[1]) if len(parts) == 3 else 0\n",
        "\n",
        "df['Number of Open Complaints'] = (\n",
        "    df['Number of Open Complaints']\n",
        "    .apply(extract_complaint_value)\n",
        ")\n",
        "\n",
        "# Verification\n",
        "print(\"Data Types After Cleaning:\")\n",
        "print(df[['Customer Lifetime Value', 'Number of Open Complaints']].dtypes)\n",
        "\n",
        "print(\"\\nSample Values:\")\n",
        "print(df[['Customer Lifetime Value', 'Number of Open Complaints']].head())\n",
        "\n",
        "print(\"\\nValue Counts for Open Complaints:\")\n",
        "print(df['Number of Open Complaints'].value_counts().sort_index())\n",
        "\n"
      ]
    },
    {
      "cell_type": "markdown",
      "id": "14c52e28-2d0c-4dd2-8bd5-3476e34fadc1",
      "metadata": {
        "id": "14c52e28-2d0c-4dd2-8bd5-3476e34fadc1"
      },
      "source": [
        "## Exercise 4: Dealing with Null values"
      ]
    },
    {
      "cell_type": "markdown",
      "id": "34b9a20f-7d32-4417-975e-1b4dfb0e16cd",
      "metadata": {
        "id": "34b9a20f-7d32-4417-975e-1b4dfb0e16cd"
      },
      "source": [
        "Identify any columns with null or missing values. Identify how many null values each column has. You can use the `isnull()` function in pandas to find columns with null values.\n",
        "\n",
        "Decide on a strategy for handling the null values. There are several options, including:\n",
        "\n",
        "- Drop the rows or columns with null values\n",
        "- Fill the null values with a specific value (such as the column mean or median for numerical variables, and mode for categorical variables)\n",
        "- Fill the null values with the previous or next value in the column\n",
        "- Fill the null values based on a more complex algorithm or model (note: we haven't covered this yet)\n",
        "\n",
        "Implement your chosen strategy to handle the null values. You can use the `fillna()` function in pandas to fill null values or `dropna()` function to drop null values.\n",
        "\n",
        "Verify that your strategy has successfully handled the null values. You can use the `isnull()` function again to check if there are still null values in the dataset.\n",
        "\n",
        "Remember to document your process and explain your reasoning for choosing a particular strategy for handling null values.\n",
        "\n",
        "After formatting data types, as a last step, convert all the numeric variables to integers."
      ]
    },
    {
      "cell_type": "code",
      "execution_count": 15,
      "id": "f184fc35-7831-4836-a0a5-e7f99e01b40e",
      "metadata": {
        "id": "f184fc35-7831-4836-a0a5-e7f99e01b40e"
      },
      "outputs": [
        {
          "name": "stdout",
          "output_type": "stream",
          "text": [
            "Initial null values:\n",
            "Customer                     2937\n",
            "ST                           2937\n",
            "GENDER                       3054\n",
            "Education                    2937\n",
            "Customer Lifetime Value      2940\n",
            "Income                       2937\n",
            "Monthly Premium Auto         2937\n",
            "Number of Open Complaints    2937\n",
            "Policy Type                  2937\n",
            "Vehicle Class                2937\n",
            "Total Claim Amount           2937\n",
            "dtype: int64\n",
            "\n",
            "Dropped columns with >30% nulls: ['Customer', 'ST', 'GENDER', 'Education', 'Customer Lifetime Value', 'Income', 'Monthly Premium Auto', 'Number of Open Complaints', 'Policy Type', 'Vehicle Class', 'Total Claim Amount']\n",
            "\n",
            "Dropped 0 rows with null values\n",
            "\n",
            "Remaining null values:\n",
            "Series([], dtype: float64)\n",
            "\n",
            "Final data types:\n",
            "Series([], dtype: object)\n",
            "\n",
            "Sample data:\n",
            "Empty DataFrame\n",
            "Columns: []\n",
            "Index: [0, 1, 2, 3, 4]\n"
          ]
        }
      ],
      "source": [
        "# Your code here\n",
        "import pandas as pd\n",
        "\n",
        "# Load your cleaned dataset\n",
        "df = pd.read_csv('file1.csv')\n",
        "\n",
        "# Strategy: Drop columns with >30% null values, rows with any remaining nulls\n",
        "print(\"Initial null values:\")\n",
        "print(df.isnull().sum())\n",
        "\n",
        "# Drop columns with excessive nulls (threshold: 30%)\n",
        "null_percent = df.isnull().mean() * 100\n",
        "cols_to_drop = null_percent[null_percent > 30].index\n",
        "df = df.drop(columns=cols_to_drop)\n",
        "\n",
        "print(f\"\\nDropped columns with >30% nulls: {list(cols_to_drop)}\")\n",
        "\n",
        "# Drop rows with any remaining null values\n",
        "initial_rows = len(df)\n",
        "df = df.dropna()\n",
        "final_rows = len(df)\n",
        "\n",
        "print(f\"\\nDropped {initial_rows - final_rows} rows with null values\")\n",
        "print(\"\\nRemaining null values:\")\n",
        "print(df.isnull().sum())\n",
        "\n",
        "# Verify no nulls remain\n",
        "assert df.isnull().sum().sum() == 0, \"Null values still exist!\"\n",
        "\n",
        "### 2. Convert Numeric Variables to Integers\n",
        "# First identify numeric columns (excluding categorical codes)\n",
        "numeric_cols = df.select_dtypes(include=['float64', 'int64']).columns\n",
        "\n",
        "# Convert to integers where possible (losing decimals)\n",
        "for col in numeric_cols:\n",
        "    try:\n",
        "        df[col] = df[col].astype(int)\n",
        "        print(f\"Converted {col} to integer\")\n",
        "    except ValueError:\n",
        "        print(f\"Could not convert {col} to integer (contains decimals)\")\n",
        "        # Optional: Round decimals first if desired\n",
        "        # df[col] = df[col].round().astype(int)\n",
        "\n",
        "### 3. Final Verification\n",
        "print(\"\\nFinal data types:\")\n",
        "print(df.dtypes)\n",
        "\n",
        "print(\"\\nSample data:\")\n",
        "print(df.head())"
      ]
    },
    {
      "cell_type": "markdown",
      "id": "98416351-e999-4156-9834-9b00a311adfa",
      "metadata": {
        "id": "98416351-e999-4156-9834-9b00a311adfa"
      },
      "source": [
        "## Exercise 5: Dealing with duplicates"
      ]
    },
    {
      "cell_type": "markdown",
      "id": "ea0816a7-a18e-4d4c-b667-a8452a800bd1",
      "metadata": {
        "id": "ea0816a7-a18e-4d4c-b667-a8452a800bd1"
      },
      "source": [
        "Use the `.duplicated()` method to identify any duplicate rows in the dataframe.\n",
        "\n",
        "Decide on a strategy for handling the duplicates. Options include:\n",
        "- Dropping all duplicate rows\n",
        "- Keeping only the first occurrence of each duplicated row\n",
        "- Keeping only the last occurrence of each duplicated row\n",
        "- Dropping duplicates based on a subset of columns\n",
        "- Dropping duplicates based on a specific column\n",
        "\n",
        "Implement your chosen strategy using the `drop_duplicates()` function.\n",
        "\n",
        "Verify that your strategy has successfully handled the duplicates by checking for duplicates again using `.duplicated()`.\n",
        "\n",
        "Remember to document your process and explain your reasoning for choosing a particular strategy for handling duplicates.\n",
        "\n",
        "Save the cleaned dataset to a new CSV file.\n",
        "\n",
        "*Hint*: *after dropping duplicates, reset the index to ensure consistency*."
      ]
    },
    {
      "cell_type": "code",
      "execution_count": 17,
      "id": "1929362c-47ed-47cb-baca-358b78d401a0",
      "metadata": {
        "id": "1929362c-47ed-47cb-baca-358b78d401a0"
      },
      "outputs": [
        {
          "name": "stdout",
          "output_type": "stream",
          "text": [
            "Initial rows: 4008\n",
            "Duplicate rows found: 2936\n",
            "\n",
            "After cleaning:\n",
            "Rows removed: 2936\n",
            "Remaining rows: 1072\n",
            "Remaining duplicates: 0\n",
            "\n",
            "Saved cleaned data to: cleaned_data_no_duplicates.csv\n"
          ]
        }
      ],
      "source": [
        "# Your code here\n",
        "import pandas as pd\n",
        "\n",
        "# Load your cleaned dataset\n",
        "df = pd.read_csv('file1.csv')\n",
        "\n",
        "# Before cleaning report\n",
        "initial_count = len(df)\n",
        "duplicate_count = df.duplicated().sum()\n",
        "print(f\"Initial rows: {initial_count}\")\n",
        "print(f\"Duplicate rows found: {duplicate_count}\")\n",
        "\n",
        "# Strategic duplicate removal - keep first occurrence\n",
        "df_clean = df.drop_duplicates(keep='first')\n",
        "\n",
        "# Alternative options:\n",
        "# df_clean = df.drop_duplicates(keep='last')  # Keep last occurrence\n",
        "# df_clean = df.drop_duplicates(keep=False)  # Remove ALL duplicates\n",
        "\n",
        "# Verification\n",
        "remaining_duplicates = df_clean.duplicated().sum()\n",
        "rows_removed = initial_count - len(df_clean)\n",
        "\n",
        "print(f\"\\nAfter cleaning:\")\n",
        "print(f\"Rows removed: {rows_removed}\")\n",
        "print(f\"Remaining rows: {len(df_clean)}\")\n",
        "print(f\"Remaining duplicates: {remaining_duplicates}\")\n",
        "\n",
        "# Final check!\n",
        "assert remaining_duplicates == 0, \"Duplicate removal failed!\"\n",
        "\n",
        "### 2. Save newly Cleaned Dataset\n",
        "output_file = 'cleaned_data_no_duplicates.csv'\n",
        "df_clean.to_csv(output_file, index=False)\n",
        "print(f\"\\nSaved cleaned data to: {output_file}\")\n",
        "\n",
        "### 3. Advanced Verification (Optional)\n",
        "# Check for duplicates on specific columns only\n",
        "# key_columns = ['customer_id', 'policy_number']\n",
        "# if df_clean.duplicated(subset=key_columns).sum() > 0:\n",
        "#     print(\"Warning: Potential business logic duplicates exist\")"
      ]
    },
    {
      "cell_type": "markdown",
      "id": "60840701-4783-40e2-b4d8-55303f9100c9",
      "metadata": {
        "id": "60840701-4783-40e2-b4d8-55303f9100c9"
      },
      "source": [
        "# Bonus: Challenge 2: creating functions on a separate `py` file"
      ]
    },
    {
      "cell_type": "markdown",
      "id": "9d1adb3a-17cf-4899-8041-da21a4337fb4",
      "metadata": {
        "id": "9d1adb3a-17cf-4899-8041-da21a4337fb4"
      },
      "source": [
        "Put all the data cleaning and formatting steps into functions, and create a main function that performs all the cleaning and formatting.\n",
        "\n",
        "Write these functions in separate .py file(s). By putting these steps into functions, we can make the code more modular and easier to maintain."
      ]
    },
    {
      "cell_type": "markdown",
      "id": "0e170dc2-b62c-417a-8248-e63ed18a70c4",
      "metadata": {
        "id": "0e170dc2-b62c-417a-8248-e63ed18a70c4"
      },
      "source": [
        "*Hint: autoreload module is a utility module in Python that allows you to automatically reload modules in the current session when changes are made to the source code. This can be useful in situations where you are actively developing code and want to see the effects of changes you make without having to constantly restart the Python interpreter or Jupyter Notebook kernel.*"
      ]
    },
    {
      "cell_type": "code",
      "execution_count": null,
      "id": "a52c6dfc-cd11-4d01-bda4-f719fa33e9a4",
      "metadata": {
        "id": "a52c6dfc-cd11-4d01-bda4-f719fa33e9a4"
      },
      "outputs": [],
      "source": [
        "# Your code here"
      ]
    },
    {
      "cell_type": "markdown",
      "id": "80f846bb-3f5e-4ca2-96c0-900728daca5a",
      "metadata": {
        "id": "80f846bb-3f5e-4ca2-96c0-900728daca5a",
        "tags": []
      },
      "source": [
        "# Bonus: Challenge 3: Analyzing Clean and Formated Data"
      ]
    },
    {
      "cell_type": "markdown",
      "id": "9021630e-cc90-446c-b5bd-264d6c864207",
      "metadata": {
        "id": "9021630e-cc90-446c-b5bd-264d6c864207"
      },
      "source": [
        "You have been tasked with analyzing the data to identify potential areas for improving customer retention and profitability. Your goal is to identify customers with a high policy claim amount and a low customer lifetime value.\n",
        "\n",
        "In the Pandas Lab, we only looked at high policy claim amounts because we couldn't look into low customer lifetime values. If we had tried to work with that column, we wouldn't have been able to because customer lifetime value wasn't clean and in its proper format. So after cleaning and formatting the data, let's get some more interesting insights!\n",
        "\n",
        "Instructions:\n",
        "\n",
        "- Review the statistics again for total claim amount and customer lifetime value to gain an understanding of the data.\n",
        "- To identify potential areas for improving customer retention and profitability, we want to focus on customers with a high policy claim amount and a low customer lifetime value. Consider customers with a high policy claim amount to be those in the top 25% of the total claim amount, and clients with a low customer lifetime value to be those in the bottom 25% of the customer lifetime value. Create a pandas DataFrame object that contains information about customers with a policy claim amount greater than the 75th percentile and a customer lifetime value in the bottom 25th percentile.\n",
        "- Use DataFrame methods to calculate summary statistics about the high policy claim amount and low customer lifetime value data. To do so, select both columns of the dataframe simultaneously and pass it to the `.describe()` method. This will give you descriptive statistics, such as mean, median, standard deviation, minimum and maximum values for both columns at the same time, allowing you to compare and analyze their characteristics."
      ]
    },
    {
      "cell_type": "code",
      "execution_count": null,
      "id": "211e82b5-461a-4d6f-8a23-4deccb84173c",
      "metadata": {
        "id": "211e82b5-461a-4d6f-8a23-4deccb84173c"
      },
      "outputs": [],
      "source": [
        "# Your code here"
      ]
    }
  ],
  "metadata": {
    "colab": {
      "provenance": []
    },
    "kernelspec": {
      "display_name": "Python 3",
      "language": "python",
      "name": "python3"
    },
    "language_info": {
      "codemirror_mode": {
        "name": "ipython",
        "version": 3
      },
      "file_extension": ".py",
      "mimetype": "text/x-python",
      "name": "python",
      "nbconvert_exporter": "python",
      "pygments_lexer": "ipython3",
      "version": "3.13.3"
    }
  },
  "nbformat": 4,
  "nbformat_minor": 5
}
